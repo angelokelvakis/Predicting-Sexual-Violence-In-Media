{
 "cells": [
  {
   "cell_type": "markdown",
   "metadata": {},
   "source": [
    "## Angelo Kelvakis\n",
    "### Predicting Sexual Violence: Model evaluation"
   ]
  },
  {
   "cell_type": "markdown",
   "metadata": {},
   "source": [
    "This script performs model tuning on the overview data of each media item, and then evaluates models with this new stacked model."
   ]
  },
  {
   "cell_type": "code",
   "execution_count": null,
   "metadata": {},
   "outputs": [],
   "source": [
    "import pandas as pd\n",
    "import numpy as np\n",
    "from sklearn.feature_extraction.text import TfidfVectorizer, CountVectorizer\n",
    "from sklearn.feature_extraction.text import TfidfTransformer\n",
    "from sklearn.model_selection import train_test_split\n",
    "from sklearn.naive_bayes import MultinomialNB\n",
    "from sklearn import metrics\n",
    "from sklearn.metrics import confusion_matrix,accuracy_score,roc_auc_score,roc_curve,auc,f1_score\n",
    "from sklearn import neighbors, tree\n",
    "import pylab as plt\n",
    "from sklearn import preprocessing\n",
    "from sklearn.model_selection import GridSearchCV\n",
    "from sklearn.svm import SVC\n",
    "from sklearn.preprocessing import MinMaxScaler\n",
    "from sklearn.model_selection import KFold\n",
    "from sklearn.ensemble import AdaBoostClassifier\n",
    "from sklearn.ensemble import RandomForestClassifier\n",
    "from sklearn.ensemble import GradientBoostingClassifier"
   ]
  },
  {
   "cell_type": "code",
   "execution_count": 112,
   "metadata": {},
   "outputs": [],
   "source": [
    "# This file MUST be in the cwd that this code is running in. Otherwise, pipe in file location\n",
    "text_df = pd.read_csv('REDO_Overview_txtAnalysis')"
   ]
  },
  {
   "cell_type": "markdown",
   "metadata": {},
   "source": [
    "### Text Model Tuning"
   ]
  },
  {
   "cell_type": "code",
   "execution_count": 175,
   "metadata": {},
   "outputs": [
    {
     "name": "stdout",
     "output_type": "stream",
     "text": [
      "X Train Size: (7189,)\n",
      "X Test Size: (1798,)\n"
     ]
    }
   ],
   "source": [
    "# Split into 80-20 training and testing data\n",
    "X_train, X_test, y_train, y_test = train_test_split(text_df['overview'], text_df['SV_binary'].values , test_size=0.20, random_state=0)\n",
    "# Show the size of datasets\n",
    "print('X Train Size:',X_train.shape)\n",
    "print('X Test Size:',X_test.shape)"
   ]
  },
  {
   "cell_type": "code",
   "execution_count": 176,
   "metadata": {},
   "outputs": [
    {
     "name": "stdout",
     "output_type": "stream",
     "text": [
      "X Train Size: (7189, 26090)\n",
      "X Test Size: (1798, 26090)\n"
     ]
    }
   ],
   "source": [
    "# Initialize vector of count of words\n",
    "count_vect = CountVectorizer()\n",
    "# transform data (necessary for tfidf transformation)\n",
    "X_train_counts = count_vect.fit_transform(X_train)\n",
    "X_test_counts = count_vect.transform(X_test)\n",
    "\n",
    "# initialize tfidf\n",
    "tfidf_transformer = TfidfTransformer()\n",
    "# transform train and test data into tfidf form\n",
    "X_train_tfidf = tfidf_transformer.fit_transform(X_train_counts)\n",
    "X_test_tfidf = tfidf_transformer.transform(X_test_counts)\n",
    "print('X Train Size:',X_train_tfidf.shape)\n",
    "print('X Test Size:',X_test_tfidf.shape)"
   ]
  },
  {
   "cell_type": "code",
   "execution_count": 177,
   "metadata": {},
   "outputs": [
    {
     "name": "stdout",
     "output_type": "stream",
     "text": [
      "              precision    recall  f1-score   support\n",
      "\n",
      "           0    0.52975   0.26008   0.34888       719\n",
      "           1    0.63183   0.84615   0.72345      1079\n",
      "\n",
      "    accuracy                        0.61179      1798\n",
      "   macro avg    0.58079   0.55312   0.53617      1798\n",
      "weighted avg    0.59101   0.61179   0.57367      1798\n",
      "\n"
     ]
    }
   ],
   "source": [
    "# KNN CLASSIFIER #\n",
    "\n",
    "# Define the parameters to tune\n",
    "parameters = { \n",
    "    'n_neighbors': [3,5,7,10,15,30],\n",
    "    'weights': ['uniform', 'distance'],\n",
    "    'metric': ['euclidean', 'manhattan']\n",
    "}\n",
    "# Tune parameters  using Grid Search and a SVC model\n",
    "model = GridSearchCV(neighbors.KNeighborsClassifier(), parameters, cv=5, n_jobs=-1).fit(X_train_tfidf, y_train)\n",
    "# Predicting the Test set results\n",
    "y_pred = model.predict(X_test_tfidf)\n",
    "print(metrics.classification_report(y_test, y_pred,  digits=5))"
   ]
  },
  {
   "cell_type": "code",
   "execution_count": 178,
   "metadata": {},
   "outputs": [
    {
     "name": "stdout",
     "output_type": "stream",
     "text": [
      "{'metric': 'euclidean', 'n_neighbors': 30, 'weights': 'distance'}\n"
     ]
    }
   ],
   "source": [
    "# print out best parameters from grid search\n",
    "print(model.best_params_)"
   ]
  },
  {
   "cell_type": "code",
   "execution_count": 179,
   "metadata": {},
   "outputs": [
    {
     "name": "stdout",
     "output_type": "stream",
     "text": [
      "              precision    recall  f1-score   support\n",
      "\n",
      "           0       0.44      0.45      0.45       719\n",
      "           1       0.63      0.61      0.62      1079\n",
      "\n",
      "    accuracy                           0.55      1798\n",
      "   macro avg       0.53      0.53      0.53      1798\n",
      "weighted avg       0.55      0.55      0.55      1798\n",
      "\n"
     ]
    }
   ],
   "source": [
    "# DECISION TREE CLASSIFIER #\n",
    "\n",
    "# create a desicion tree object\n",
    "treeclf = tree.DecisionTreeClassifier(criterion='entropy', min_samples_split=3)\n",
    "# Fit to training data\n",
    "treeclf = treeclf.fit(X_train_tfidf, y_train)\n",
    "# predict on test data\n",
    "treepreds_test = treeclf.predict(X_test_tfidf)\n",
    "# output stats\n",
    "print(metrics.classification_report(y_test, treepreds_test))"
   ]
  },
  {
   "cell_type": "code",
   "execution_count": 180,
   "metadata": {},
   "outputs": [
    {
     "name": "stdout",
     "output_type": "stream",
     "text": [
      "              precision    recall  f1-score   support\n",
      "\n",
      "           0    0.52065   0.40334   0.45455       719\n",
      "           1    0.65431   0.75255   0.70000      1079\n",
      "\n",
      "    accuracy                        0.61290      1798\n",
      "   macro avg    0.58748   0.57794   0.57727      1798\n",
      "weighted avg    0.60086   0.61290   0.60185      1798\n",
      "\n"
     ]
    }
   ],
   "source": [
    "# SVC CLASSIFIER #\n",
    "\n",
    "# Define the parameters to tune\n",
    "parameters = { \n",
    "    'C': [1.0, 10],\n",
    "    'gamma': [1, 'auto', 'scale']\n",
    "}\n",
    "# Tune yyperparameters  using Grid Search and a SVC model\n",
    "model = GridSearchCV(SVC(kernel='rbf'), parameters, cv=5, n_jobs=-1).fit(X_train_tfidf, y_train)\n",
    "# Predicting the Test set results\n",
    "y_pred = model.predict(X_test_tfidf)\n",
    "# print out stats\n",
    "print(metrics.classification_report(y_test, y_pred,  digits=5))"
   ]
  },
  {
   "cell_type": "code",
   "execution_count": 182,
   "metadata": {},
   "outputs": [
    {
     "name": "stdout",
     "output_type": "stream",
     "text": [
      "{'C': 10, 'gamma': 'scale'}\n"
     ]
    }
   ],
   "source": [
    "# print out best parameters from grid search\n",
    "print(model.best_params_)"
   ]
  },
  {
   "cell_type": "markdown",
   "metadata": {},
   "source": [
    "## Final Text Model (NB)"
   ]
  },
  {
   "cell_type": "code",
   "execution_count": 147,
   "metadata": {},
   "outputs": [
    {
     "name": "stdout",
     "output_type": "stream",
     "text": [
      "              precision    recall  f1-score   support\n",
      "\n",
      "           0    0.58929   0.04590   0.08516       719\n",
      "           1    0.60620   0.97868   0.74867      1079\n",
      "\n",
      "    accuracy                        0.60567      1798\n",
      "   macro avg    0.59774   0.51229   0.41692      1798\n",
      "weighted avg    0.59944   0.60567   0.48334      1798\n",
      "\n"
     ]
    }
   ],
   "source": [
    "# Re-initialize train test split and prepare tfidf format\n",
    "X_train, X_test, y_train, y_test = train_test_split(full_media_df['overview'], full_media_df['SV_binary'].values , test_size=0.20, random_state=0)\n",
    "count_vect = CountVectorizer()\n",
    "X_train_counts = count_vect.fit_transform(X_train)\n",
    "X_test_counts = count_vect.transform(X_test)\n",
    "tfidf_transformer = TfidfTransformer()\n",
    "X_train_tfidf = tfidf_transformer.fit_transform(X_train_counts)\n",
    "X_test_tfidf = tfidf_transformer.transform(X_test_counts)\n",
    "# Run the NB model\n",
    "model = MultinomialNB()\n",
    "model.fit(X_train_tfidf, y_train)\n",
    "y_pred = model.predict(X_test_tfidf)\n",
    "print(metrics.classification_report(y_test, y_pred,  digits=5))"
   ]
  },
  {
   "cell_type": "markdown",
   "metadata": {},
   "source": [
    "### Predict using text model and add prediction as a new column in the data"
   ]
  },
  {
   "cell_type": "code",
   "execution_count": 124,
   "metadata": {},
   "outputs": [],
   "source": [
    "# Convert entire dataset to tfidf and predict\n",
    "X_full_counts = count_vect.transform(full_media_df['overview'])\n",
    "X_full_tfidf = tfidf_transformer.transform(X_full_counts)\n",
    "# convert prediction into new row\n",
    "text_df['predicted_from_overview'] = model.predict(X_full_tfidf)"
   ]
  },
  {
   "cell_type": "markdown",
   "metadata": {},
   "source": [
    "### Clean data for numerical analysis"
   ]
  },
  {
   "cell_type": "code",
   "execution_count": 135,
   "metadata": {},
   "outputs": [],
   "source": [
    "# Create dummy columns from itemType data\n",
    "dummy_media = pd.get_dummies(text_df['itemType'].apply(pd.Series).stack()).sum(level=0)\n",
    "# bind dummy data to rest of data\n",
    "df = pd.concat([text_df, dummy_media], axis=1)\n",
    "# Pull out non-numeric columns\n",
    "df = df.iloc[:,4:]\n",
    "# Drop over view column\n",
    "df = df.drop(['overview'], axis = 1)\n",
    "# Drop Class labels\n",
    "df = df.drop(['SV_binary'], axis = 1)"
   ]
  },
  {
   "cell_type": "code",
   "execution_count": 136,
   "metadata": {},
   "outputs": [],
   "source": [
    "# Min-max scale data\n",
    "min_max_scaler = preprocessing.MinMaxScaler().fit(df)\n",
    "df_norm = min_max_scaler.transform(df)\n",
    "df_norm = pd.DataFrame(df_norm, columns=df.columns, index=df.index)"
   ]
  },
  {
   "cell_type": "code",
   "execution_count": 137,
   "metadata": {},
   "outputs": [
    {
     "data": {
      "text/html": [
       "<div>\n",
       "<style scoped>\n",
       "    .dataframe tbody tr th:only-of-type {\n",
       "        vertical-align: middle;\n",
       "    }\n",
       "\n",
       "    .dataframe tbody tr th {\n",
       "        vertical-align: top;\n",
       "    }\n",
       "\n",
       "    .dataframe thead th {\n",
       "        text-align: right;\n",
       "    }\n",
       "</style>\n",
       "<table border=\"1\" class=\"dataframe\">\n",
       "  <thead>\n",
       "    <tr style=\"text-align: right;\">\n",
       "      <th></th>\n",
       "      <th>yearOfRelease</th>\n",
       "      <th>action</th>\n",
       "      <th>adventure</th>\n",
       "      <th>animation</th>\n",
       "      <th>anime</th>\n",
       "      <th>anthology</th>\n",
       "      <th>art</th>\n",
       "      <th>biography</th>\n",
       "      <th>childrens</th>\n",
       "      <th>comedy</th>\n",
       "      <th>...</th>\n",
       "      <th>selfhelp</th>\n",
       "      <th>thriller</th>\n",
       "      <th>travel</th>\n",
       "      <th>western</th>\n",
       "      <th>war</th>\n",
       "      <th>youngadult</th>\n",
       "      <th>predicted_from_overview</th>\n",
       "      <th>TV show</th>\n",
       "      <th>book</th>\n",
       "      <th>movie</th>\n",
       "    </tr>\n",
       "  </thead>\n",
       "  <tbody>\n",
       "    <tr>\n",
       "      <th>0</th>\n",
       "      <td>0.376739</td>\n",
       "      <td>1.0</td>\n",
       "      <td>0.0</td>\n",
       "      <td>0.0</td>\n",
       "      <td>0.0</td>\n",
       "      <td>0.0</td>\n",
       "      <td>0.0</td>\n",
       "      <td>0.0</td>\n",
       "      <td>0.0</td>\n",
       "      <td>0.0</td>\n",
       "      <td>...</td>\n",
       "      <td>0.0</td>\n",
       "      <td>0.0</td>\n",
       "      <td>0.0</td>\n",
       "      <td>0.0</td>\n",
       "      <td>0.0</td>\n",
       "      <td>0.0</td>\n",
       "      <td>1.0</td>\n",
       "      <td>0.0</td>\n",
       "      <td>0.0</td>\n",
       "      <td>1.0</td>\n",
       "    </tr>\n",
       "    <tr>\n",
       "      <th>1</th>\n",
       "      <td>0.376532</td>\n",
       "      <td>0.0</td>\n",
       "      <td>0.0</td>\n",
       "      <td>0.0</td>\n",
       "      <td>0.0</td>\n",
       "      <td>0.0</td>\n",
       "      <td>0.0</td>\n",
       "      <td>0.0</td>\n",
       "      <td>0.0</td>\n",
       "      <td>0.0</td>\n",
       "      <td>...</td>\n",
       "      <td>0.0</td>\n",
       "      <td>0.0</td>\n",
       "      <td>0.0</td>\n",
       "      <td>0.0</td>\n",
       "      <td>0.0</td>\n",
       "      <td>0.0</td>\n",
       "      <td>0.0</td>\n",
       "      <td>0.0</td>\n",
       "      <td>0.0</td>\n",
       "      <td>1.0</td>\n",
       "    </tr>\n",
       "    <tr>\n",
       "      <th>2</th>\n",
       "      <td>0.375493</td>\n",
       "      <td>0.0</td>\n",
       "      <td>0.0</td>\n",
       "      <td>0.0</td>\n",
       "      <td>0.0</td>\n",
       "      <td>0.0</td>\n",
       "      <td>0.0</td>\n",
       "      <td>0.0</td>\n",
       "      <td>0.0</td>\n",
       "      <td>1.0</td>\n",
       "      <td>...</td>\n",
       "      <td>0.0</td>\n",
       "      <td>0.0</td>\n",
       "      <td>0.0</td>\n",
       "      <td>0.0</td>\n",
       "      <td>0.0</td>\n",
       "      <td>0.0</td>\n",
       "      <td>1.0</td>\n",
       "      <td>0.0</td>\n",
       "      <td>0.0</td>\n",
       "      <td>1.0</td>\n",
       "    </tr>\n",
       "    <tr>\n",
       "      <th>3</th>\n",
       "      <td>0.374455</td>\n",
       "      <td>0.0</td>\n",
       "      <td>0.0</td>\n",
       "      <td>0.0</td>\n",
       "      <td>0.0</td>\n",
       "      <td>0.0</td>\n",
       "      <td>0.0</td>\n",
       "      <td>0.0</td>\n",
       "      <td>0.0</td>\n",
       "      <td>0.0</td>\n",
       "      <td>...</td>\n",
       "      <td>0.0</td>\n",
       "      <td>0.0</td>\n",
       "      <td>0.0</td>\n",
       "      <td>0.0</td>\n",
       "      <td>0.0</td>\n",
       "      <td>0.0</td>\n",
       "      <td>0.0</td>\n",
       "      <td>0.0</td>\n",
       "      <td>0.0</td>\n",
       "      <td>1.0</td>\n",
       "    </tr>\n",
       "    <tr>\n",
       "      <th>4</th>\n",
       "      <td>0.375909</td>\n",
       "      <td>0.0</td>\n",
       "      <td>0.0</td>\n",
       "      <td>0.0</td>\n",
       "      <td>0.0</td>\n",
       "      <td>0.0</td>\n",
       "      <td>0.0</td>\n",
       "      <td>0.0</td>\n",
       "      <td>0.0</td>\n",
       "      <td>0.0</td>\n",
       "      <td>...</td>\n",
       "      <td>0.0</td>\n",
       "      <td>1.0</td>\n",
       "      <td>0.0</td>\n",
       "      <td>0.0</td>\n",
       "      <td>0.0</td>\n",
       "      <td>0.0</td>\n",
       "      <td>1.0</td>\n",
       "      <td>0.0</td>\n",
       "      <td>0.0</td>\n",
       "      <td>1.0</td>\n",
       "    </tr>\n",
       "    <tr>\n",
       "      <th>...</th>\n",
       "      <td>...</td>\n",
       "      <td>...</td>\n",
       "      <td>...</td>\n",
       "      <td>...</td>\n",
       "      <td>...</td>\n",
       "      <td>...</td>\n",
       "      <td>...</td>\n",
       "      <td>...</td>\n",
       "      <td>...</td>\n",
       "      <td>...</td>\n",
       "      <td>...</td>\n",
       "      <td>...</td>\n",
       "      <td>...</td>\n",
       "      <td>...</td>\n",
       "      <td>...</td>\n",
       "      <td>...</td>\n",
       "      <td>...</td>\n",
       "      <td>...</td>\n",
       "      <td>...</td>\n",
       "      <td>...</td>\n",
       "      <td>...</td>\n",
       "    </tr>\n",
       "    <tr>\n",
       "      <th>8982</th>\n",
       "      <td>0.376324</td>\n",
       "      <td>1.0</td>\n",
       "      <td>0.0</td>\n",
       "      <td>0.0</td>\n",
       "      <td>1.0</td>\n",
       "      <td>0.0</td>\n",
       "      <td>0.0</td>\n",
       "      <td>0.0</td>\n",
       "      <td>0.0</td>\n",
       "      <td>1.0</td>\n",
       "      <td>...</td>\n",
       "      <td>0.0</td>\n",
       "      <td>0.0</td>\n",
       "      <td>0.0</td>\n",
       "      <td>0.0</td>\n",
       "      <td>0.0</td>\n",
       "      <td>0.0</td>\n",
       "      <td>1.0</td>\n",
       "      <td>1.0</td>\n",
       "      <td>0.0</td>\n",
       "      <td>0.0</td>\n",
       "    </tr>\n",
       "    <tr>\n",
       "      <th>8983</th>\n",
       "      <td>0.375493</td>\n",
       "      <td>0.0</td>\n",
       "      <td>0.0</td>\n",
       "      <td>0.0</td>\n",
       "      <td>0.0</td>\n",
       "      <td>0.0</td>\n",
       "      <td>0.0</td>\n",
       "      <td>0.0</td>\n",
       "      <td>0.0</td>\n",
       "      <td>1.0</td>\n",
       "      <td>...</td>\n",
       "      <td>0.0</td>\n",
       "      <td>0.0</td>\n",
       "      <td>0.0</td>\n",
       "      <td>0.0</td>\n",
       "      <td>0.0</td>\n",
       "      <td>0.0</td>\n",
       "      <td>1.0</td>\n",
       "      <td>0.0</td>\n",
       "      <td>0.0</td>\n",
       "      <td>1.0</td>\n",
       "    </tr>\n",
       "    <tr>\n",
       "      <th>8984</th>\n",
       "      <td>0.376116</td>\n",
       "      <td>0.0</td>\n",
       "      <td>0.0</td>\n",
       "      <td>0.0</td>\n",
       "      <td>0.0</td>\n",
       "      <td>0.0</td>\n",
       "      <td>0.0</td>\n",
       "      <td>0.0</td>\n",
       "      <td>0.0</td>\n",
       "      <td>0.0</td>\n",
       "      <td>...</td>\n",
       "      <td>0.0</td>\n",
       "      <td>0.0</td>\n",
       "      <td>0.0</td>\n",
       "      <td>0.0</td>\n",
       "      <td>0.0</td>\n",
       "      <td>0.0</td>\n",
       "      <td>1.0</td>\n",
       "      <td>0.0</td>\n",
       "      <td>0.0</td>\n",
       "      <td>1.0</td>\n",
       "    </tr>\n",
       "    <tr>\n",
       "      <th>8985</th>\n",
       "      <td>0.375701</td>\n",
       "      <td>0.0</td>\n",
       "      <td>1.0</td>\n",
       "      <td>1.0</td>\n",
       "      <td>0.0</td>\n",
       "      <td>0.0</td>\n",
       "      <td>0.0</td>\n",
       "      <td>0.0</td>\n",
       "      <td>0.0</td>\n",
       "      <td>1.0</td>\n",
       "      <td>...</td>\n",
       "      <td>0.0</td>\n",
       "      <td>0.0</td>\n",
       "      <td>0.0</td>\n",
       "      <td>0.0</td>\n",
       "      <td>0.0</td>\n",
       "      <td>0.0</td>\n",
       "      <td>1.0</td>\n",
       "      <td>0.0</td>\n",
       "      <td>0.0</td>\n",
       "      <td>1.0</td>\n",
       "    </tr>\n",
       "    <tr>\n",
       "      <th>8986</th>\n",
       "      <td>0.365109</td>\n",
       "      <td>0.0</td>\n",
       "      <td>0.0</td>\n",
       "      <td>0.0</td>\n",
       "      <td>0.0</td>\n",
       "      <td>0.0</td>\n",
       "      <td>0.0</td>\n",
       "      <td>0.0</td>\n",
       "      <td>0.0</td>\n",
       "      <td>0.0</td>\n",
       "      <td>...</td>\n",
       "      <td>0.0</td>\n",
       "      <td>0.0</td>\n",
       "      <td>0.0</td>\n",
       "      <td>0.0</td>\n",
       "      <td>1.0</td>\n",
       "      <td>0.0</td>\n",
       "      <td>1.0</td>\n",
       "      <td>0.0</td>\n",
       "      <td>0.0</td>\n",
       "      <td>1.0</td>\n",
       "    </tr>\n",
       "  </tbody>\n",
       "</table>\n",
       "<p>8987 rows × 42 columns</p>\n",
       "</div>"
      ],
      "text/plain": [
       "      yearOfRelease  action  adventure  animation  anime  anthology  art  \\\n",
       "0          0.376739     1.0        0.0        0.0    0.0        0.0  0.0   \n",
       "1          0.376532     0.0        0.0        0.0    0.0        0.0  0.0   \n",
       "2          0.375493     0.0        0.0        0.0    0.0        0.0  0.0   \n",
       "3          0.374455     0.0        0.0        0.0    0.0        0.0  0.0   \n",
       "4          0.375909     0.0        0.0        0.0    0.0        0.0  0.0   \n",
       "...             ...     ...        ...        ...    ...        ...  ...   \n",
       "8982       0.376324     1.0        0.0        0.0    1.0        0.0  0.0   \n",
       "8983       0.375493     0.0        0.0        0.0    0.0        0.0  0.0   \n",
       "8984       0.376116     0.0        0.0        0.0    0.0        0.0  0.0   \n",
       "8985       0.375701     0.0        1.0        1.0    0.0        0.0  0.0   \n",
       "8986       0.365109     0.0        0.0        0.0    0.0        0.0  0.0   \n",
       "\n",
       "      biography  childrens  comedy  ...  selfhelp  thriller  travel  western  \\\n",
       "0           0.0        0.0     0.0  ...       0.0       0.0     0.0      0.0   \n",
       "1           0.0        0.0     0.0  ...       0.0       0.0     0.0      0.0   \n",
       "2           0.0        0.0     1.0  ...       0.0       0.0     0.0      0.0   \n",
       "3           0.0        0.0     0.0  ...       0.0       0.0     0.0      0.0   \n",
       "4           0.0        0.0     0.0  ...       0.0       1.0     0.0      0.0   \n",
       "...         ...        ...     ...  ...       ...       ...     ...      ...   \n",
       "8982        0.0        0.0     1.0  ...       0.0       0.0     0.0      0.0   \n",
       "8983        0.0        0.0     1.0  ...       0.0       0.0     0.0      0.0   \n",
       "8984        0.0        0.0     0.0  ...       0.0       0.0     0.0      0.0   \n",
       "8985        0.0        0.0     1.0  ...       0.0       0.0     0.0      0.0   \n",
       "8986        0.0        0.0     0.0  ...       0.0       0.0     0.0      0.0   \n",
       "\n",
       "      war  youngadult  predicted_from_overview  TV show  book  movie  \n",
       "0     0.0         0.0                      1.0      0.0   0.0    1.0  \n",
       "1     0.0         0.0                      0.0      0.0   0.0    1.0  \n",
       "2     0.0         0.0                      1.0      0.0   0.0    1.0  \n",
       "3     0.0         0.0                      0.0      0.0   0.0    1.0  \n",
       "4     0.0         0.0                      1.0      0.0   0.0    1.0  \n",
       "...   ...         ...                      ...      ...   ...    ...  \n",
       "8982  0.0         0.0                      1.0      1.0   0.0    0.0  \n",
       "8983  0.0         0.0                      1.0      0.0   0.0    1.0  \n",
       "8984  0.0         0.0                      1.0      0.0   0.0    1.0  \n",
       "8985  0.0         0.0                      1.0      0.0   0.0    1.0  \n",
       "8986  1.0         0.0                      1.0      0.0   0.0    1.0  \n",
       "\n",
       "[8987 rows x 42 columns]"
      ]
     },
     "execution_count": 137,
     "metadata": {},
     "output_type": "execute_result"
    }
   ],
   "source": [
    "df_norm"
   ]
  },
  {
   "cell_type": "code",
   "execution_count": 138,
   "metadata": {},
   "outputs": [],
   "source": [
    "# These functions help to tune the models parameters, similar to a manual version of grid search\n",
    "\n",
    "def calc_params(X, y, clf, param_values, param_name, K):\n",
    "    \n",
    "    # Convert input to Numpy arrays\n",
    "    X = np.array(X)\n",
    "    y = np.array(y)\n",
    "\n",
    "    # initialize training and testing score arrays with zeros\n",
    "    train_scores = np.zeros(len(param_values))\n",
    "    test_scores = np.zeros(len(param_values))\n",
    "    \n",
    "    # iterate over the different parameter values\n",
    "    for i, param_value in enumerate(param_values):\n",
    "\n",
    "        # set classifier parameters\n",
    "        clf.set_params(**{param_name:param_value})\n",
    "        \n",
    "        # initialize the K scores obtained for each fold\n",
    "        k_train_scores = np.zeros(K)\n",
    "        k_test_scores = np.zeros(K)\n",
    "        \n",
    "        # create KFold cross validation\n",
    "        cv = KFold(n_splits=K, shuffle=True, random_state=0)\n",
    "        \n",
    "        # iterate over the K folds\n",
    "        j = 0\n",
    "        for train, test in cv.split(X):\n",
    "            # fit the classifier in the corresponding fold\n",
    "            # and obtain the corresponding accuracy scores on train and test sets\n",
    "            clf.fit(X[train], y[train])\n",
    "            k_train_scores[j] = clf.score(X[train], y[train])\n",
    "            k_test_scores[j] = clf.score(X[test], y[test])\n",
    "            j += 1\n",
    "            \n",
    "        # store the mean of the K fold scores\n",
    "        train_scores[i] = np.mean(k_train_scores)\n",
    "        test_scores[i] = np.mean(k_test_scores)\n",
    "        print(param_name, '=', param_value, \"Train =\", train_scores[i], \"Test =\", test_scores[i])\n",
    "       \n",
    "    # plot the training and testing scores in a log scale\n",
    "    plt.plot(param_values, train_scores, label='Train', alpha=0.4, lw=2, c='b')\n",
    "    plt.plot(param_values, test_scores, label='X-Val', alpha=0.4, lw=2, c='g')\n",
    "    plt.legend(loc=7)\n",
    "    plt.xlabel(param_name + \" values\")\n",
    "    plt.ylabel(\"Mean cross validation accuracy\")\n",
    "\n",
    "    # return the training and testing scores on each parameter value\n",
    "    return train_scores, test_scores\n",
    "\n",
    "# function to output performance\n",
    "def measure_performance(X, y, clf, show_accuracy=True, show_classification_report=True, show_confussion_matrix=True):\n",
    "    y_pred = clf.predict(X)   \n",
    "    if show_accuracy:\n",
    "         print(\"Accuracy:{0:.3f}\".format(metrics.accuracy_score(y, y_pred)),\"\\n\")\n",
    "    if show_classification_report:\n",
    "        print(\"Classification report\")\n",
    "        print(metrics.classification_report(y, y_pred),\"\\n\")\n",
    "      \n",
    "    if show_confussion_matrix:\n",
    "        print(\"Confussion matrix\")\n",
    "        print(metrics.confusion_matrix(y, y_pred),\"\\n\")"
   ]
  },
  {
   "cell_type": "code",
   "execution_count": 149,
   "metadata": {},
   "outputs": [],
   "source": [
    "# Re-run train test split with new randon_state\n",
    "X_train, X_test, y_train, y_test = train_test_split(df_norm, text_df['SV_binary'].values , test_size=0.20, random_state=2)"
   ]
  },
  {
   "cell_type": "markdown",
   "metadata": {},
   "source": [
    "## Final Numeric Model"
   ]
  },
  {
   "cell_type": "code",
   "execution_count": 150,
   "metadata": {},
   "outputs": [
    {
     "name": "stdout",
     "output_type": "stream",
     "text": [
      "Accuracy:0.709 \n",
      "\n",
      "Classification report\n",
      "              precision    recall  f1-score   support\n",
      "\n",
      "           0       0.75      0.45      0.56       749\n",
      "           1       0.69      0.89      0.78      1049\n",
      "\n",
      "    accuracy                           0.71      1798\n",
      "   macro avg       0.72      0.67      0.67      1798\n",
      "weighted avg       0.72      0.71      0.69      1798\n",
      " \n",
      "\n"
     ]
    }
   ],
   "source": [
    "# create adaB obj\n",
    "ab = AdaBoostClassifier()\n",
    "# fit to train data\n",
    "ab = ab.fit(X_train, y_train)\n",
    "# output stats\n",
    "measure_performance(X_test, y_test, ab, show_confussion_matrix=False, show_classification_report=True)"
   ]
  },
  {
   "cell_type": "code",
   "execution_count": 144,
   "metadata": {},
   "outputs": [
    {
     "name": "stdout",
     "output_type": "stream",
     "text": [
      "n_estimators = 5 Train = 0.7142509532719592 Test = 0.7119217617447878\n",
      "n_estimators = 10 Train = 0.7222493203697536 Test = 0.7179019998974064\n",
      "n_estimators = 15 Train = 0.727500308950321 Test = 0.7233270712531807\n",
      "n_estimators = 20 Train = 0.7297954410299086 Test = 0.7245786162061086\n",
      "n_estimators = 25 Train = 0.7322297337658397 Test = 0.7256918533918311\n",
      "n_estimators = 30 Train = 0.7328208627440738 Test = 0.7274994362192133\n",
      "n_estimators = 35 Train = 0.7348726737733706 Test = 0.7287510779585424\n",
      "n_estimators = 40 Train = 0.735255179663983 Test = 0.7295864413866394\n",
      "n_estimators = 45 Train = 0.7354986337261538 Test = 0.7304207401643239\n",
      "n_estimators = 50 Train = 0.7356724560691991 Test = 0.7291686144929893\n",
      "n_estimators = 55 Train = 0.7359854753445552 Test = 0.728890160016957\n",
      "n_estimators = 60 Train = 0.7361941347081441 Test = 0.728611995900128\n",
      "n_estimators = 65 Train = 0.737063536631109 Test = 0.7295855703090293\n",
      "n_estimators = 70 Train = 0.7370287117025545 Test = 0.7293069222601947\n",
      "n_estimators = 75 Train = 0.7369591464893691 Test = 0.7302808838147005\n",
      "n_estimators = 80 Train = 0.7366461755819692 Test = 0.7300028164842727\n",
      "n_estimators = 85 Train = 0.737167793760969 Test = 0.7290287581433658\n",
      "n_estimators = 90 Train = 0.7374112236391615 Test = 0.7293068254737937\n",
      "n_estimators = 95 Train = 0.736715710565182 Test = 0.7287507875993391\n",
      "n_estimators = 100 Train = 0.7371678300369362 Test = 0.7297243620082404\n"
     ]
    },
    {
     "data": {
      "image/png": "[encoded data removed]",
      "text/plain": [
       "<Figure size 432x288 with 1 Axes>"
      ]
     },
     "metadata": {
      "needs_background": "light"
     },
     "output_type": "display_data"
    }
   ],
   "source": [
    "# Iterate over the number of random features by the n_estimators parameter\n",
    "nest = range(5, 101, 5)\n",
    "train_scores, test_scores = calc_params(X_train, y_train, ab, nest, 'n_estimators', 5)"
   ]
  },
  {
   "cell_type": "code",
   "execution_count": 145,
   "metadata": {},
   "outputs": [
    {
     "name": "stdout",
     "output_type": "stream",
     "text": [
      "learning_rate = 0.01 Train = 0.708721667562683 Test = 0.7087218097508428\n",
      "learning_rate = 0.05 Train = 0.708721667562683 Test = 0.7087218097508428\n",
      "learning_rate = 0.1 Train = 0.7086521144414867 Test = 0.7087218097508428\n",
      "learning_rate = 0.2 Train = 0.7144943226902065 Test = 0.7112253835887042\n",
      "learning_rate = 0.3 Train = 0.7235706059706857 Test = 0.7195723396079957\n",
      "learning_rate = 0.4 Train = 0.7273264261473302 Test = 0.7219354763778271\n",
      "learning_rate = 0.6 Train = 0.7312908331356293 Test = 0.7261093899262778\n",
      "learning_rate = 0.7 Train = 0.734281405737262 Test = 0.7283343157153047\n",
      "learning_rate = 0.8 Train = 0.7357072205378081 Test = 0.729029726007377\n",
      "learning_rate = 0.9 Train = 0.7350116953718395 Test = 0.7297251362994495\n",
      "learning_rate = 1.0 Train = 0.7356724560691991 Test = 0.7291686144929893\n",
      "learning_rate = 1.3 Train = 0.734663996271798 Test = 0.7270818996847666\n",
      "learning_rate = 1.5 Train = 0.7320906335694415 Test = 0.7279168759672591\n",
      "learning_rate = 1.8 Train = 0.7262135278402329 Test = 0.7191525769863232\n",
      "learning_rate = 2.0 Train = 0.4266837611116311 Test = 0.4300013646882558\n"
     ]
    },
    {
     "data": {
      "image/png": "[encoded data removed]",
      "text/plain": [
       "<Figure size 432x288 with 1 Axes>"
      ]
     },
     "metadata": {
      "needs_background": "light"
     },
     "output_type": "display_data"
    }
   ],
   "source": [
    "# iterate over learning rate parameter\n",
    "lr = [0.01, 0.05, 0.1, 0.2, 0.3, 0.4, 0.6, 0.7, 0.8, 0.9, 1.0, 1.3, 1.5, 1.8, 2.0]\n",
    "ab = AdaBoostClassifier()\n",
    "train_scores, test_scores = calc_params(X_train, y_train, ab, lr, 'learning_rate', 5)"
   ]
  },
  {
   "cell_type": "code",
   "execution_count": 146,
   "metadata": {},
   "outputs": [
    {
     "name": "stdout",
     "output_type": "stream",
     "text": [
      "Accuracy:0.709 \n",
      "\n",
      "Classification report\n",
      "              precision    recall  f1-score   support\n",
      "\n",
      "           0       0.75      0.45      0.56       749\n",
      "           1       0.69      0.89      0.78      1049\n",
      "\n",
      "    accuracy                           0.71      1798\n",
      "   macro avg       0.72      0.67      0.67      1798\n",
      "weighted avg       0.72      0.71      0.69      1798\n",
      " \n",
      "\n",
      "Confussion matrix\n",
      "[[337 412]\n",
      " [112 937]] \n",
      "\n"
     ]
    }
   ],
   "source": [
    "# Compare parameters to other ADABoost model\n",
    "ab = AdaBoostClassifier(n_estimators=45,learning_rate=0.9)\n",
    "ab = ab.fit(X_train, y_train)\n",
    "measure_performance(X_test, y_test, ab, show_confussion_matrix=True, show_classification_report=True)"
   ]
  },
  {
   "cell_type": "markdown",
   "metadata": {},
   "source": [
    "### Compare other models"
   ]
  },
  {
   "cell_type": "code",
   "execution_count": 151,
   "metadata": {},
   "outputs": [
    {
     "name": "stdout",
     "output_type": "stream",
     "text": [
      "              precision    recall  f1-score   support\n",
      "\n",
      "           0       0.60      0.41      0.49       749\n",
      "           1       0.66      0.81      0.72      1049\n",
      "\n",
      "    accuracy                           0.64      1798\n",
      "   macro avg       0.63      0.61      0.61      1798\n",
      "weighted avg       0.64      0.64      0.63      1798\n",
      "\n"
     ]
    }
   ],
   "source": [
    "model = MultinomialNB()\n",
    "model.fit(X_train, y_train)\n",
    "y_pred = model.predict(X_test)\n",
    "print(metrics.classification_report(y_test, y_pred))"
   ]
  },
  {
   "cell_type": "code",
   "execution_count": 169,
   "metadata": {},
   "outputs": [
    {
     "name": "stdout",
     "output_type": "stream",
     "text": [
      "              precision    recall  f1-score   support\n",
      "\n",
      "           0       0.68      0.48      0.56       749\n",
      "           1       0.69      0.84      0.76      1049\n",
      "\n",
      "    accuracy                           0.69      1798\n",
      "   macro avg       0.68      0.66      0.66      1798\n",
      "weighted avg       0.68      0.69      0.67      1798\n",
      "\n"
     ]
    }
   ],
   "source": [
    "parameters = { \n",
    "    'n_neighbors': [3,5,7,10,15,30],\n",
    "    'weights': ['uniform', 'distance'],\n",
    "    'metric': ['euclidean', 'manhattan']\n",
    "}\n",
    "# Tune yyperparameters  using Grid Search and a SVM model\n",
    "model = GridSearchCV(neighbors.KNeighborsClassifier(), parameters, cv=5, n_jobs=-1).fit(X_train, y_train)\n",
    "# Predicting the Test set results\n",
    "y_pred = model.predict(X_test)\n",
    "print(metrics.classification_report(y_test, y_pred))"
   ]
  },
  {
   "cell_type": "code",
   "execution_count": 170,
   "metadata": {},
   "outputs": [
    {
     "name": "stdout",
     "output_type": "stream",
     "text": [
      "{'metric': 'manhattan', 'n_neighbors': 15, 'weights': 'uniform'}\n"
     ]
    }
   ],
   "source": [
    "print(model.best_params_)"
   ]
  },
  {
   "cell_type": "code",
   "execution_count": 171,
   "metadata": {},
   "outputs": [
    {
     "name": "stdout",
     "output_type": "stream",
     "text": [
      "              precision    recall  f1-score   support\n",
      "\n",
      "           0       0.58      0.63      0.61       749\n",
      "           1       0.72      0.68      0.70      1049\n",
      "\n",
      "    accuracy                           0.66      1798\n",
      "   macro avg       0.65      0.66      0.65      1798\n",
      "weighted avg       0.66      0.66      0.66      1798\n",
      "\n"
     ]
    }
   ],
   "source": [
    "treeclf = tree.DecisionTreeClassifier(criterion='entropy', min_samples_split=3)\n",
    "treeclf = treeclf.fit(X_train, y_train)\n",
    "treepreds_test = treeclf.predict(X_test)\n",
    "\n",
    "print(metrics.classification_report(y_test, treepreds_test))"
   ]
  },
  {
   "cell_type": "code",
   "execution_count": 172,
   "metadata": {},
   "outputs": [
    {
     "name": "stdout",
     "output_type": "stream",
     "text": [
      "              precision    recall  f1-score   support\n",
      "\n",
      "           0    0.83708   0.39786   0.53937       749\n",
      "           1    0.68724   0.94471   0.79566      1049\n",
      "\n",
      "    accuracy                        0.71691      1798\n",
      "   macro avg    0.76216   0.67129   0.66752      1798\n",
      "weighted avg    0.74966   0.71691   0.68890      1798\n",
      "\n"
     ]
    }
   ],
   "source": [
    "parameters = { \n",
    "    'C': [1.0, 10],\n",
    "    'gamma': [1, 'auto', 'scale']\n",
    "}\n",
    "# Tune yyperparameters  using Grid Search and a SVM model\n",
    "model = GridSearchCV(SVC(kernel='rbf'), parameters, cv=5, n_jobs=-1).fit(X_train, y_train)\n",
    "# Predicting the Test set results\n",
    "y_pred = model.predict(X_test)\n",
    "\n",
    "print(metrics.classification_report(y_test, y_pred,  digits=5))"
   ]
  },
  {
   "cell_type": "code",
   "execution_count": 173,
   "metadata": {},
   "outputs": [
    {
     "name": "stdout",
     "output_type": "stream",
     "text": [
      "{'C': 1.0, 'gamma': 'scale'}\n"
     ]
    }
   ],
   "source": [
    "print(model.best_params_)"
   ]
  },
  {
   "cell_type": "code",
   "execution_count": 157,
   "metadata": {},
   "outputs": [
    {
     "name": "stdout",
     "output_type": "stream",
     "text": [
      "min_samples_leaf = 1 Train = 0.9144179617791574 Test = 0.6924485314115425\n",
      "min_samples_leaf = 2 Train = 0.8022673567806675 Test = 0.726943398344759\n",
      "min_samples_leaf = 3 Train = 0.7731949925138496 Test = 0.7284727202689113\n",
      "min_samples_leaf = 4 Train = 0.7619973632208609 Test = 0.7279171663264624\n",
      "min_samples_leaf = 5 Train = 0.7546250769957406 Test = 0.7306984203491472\n",
      "min_samples_leaf = 6 Train = 0.7501389671845182 Test = 0.7286115119681223\n",
      "min_samples_leaf = 7 Train = 0.7478785512055832 Test = 0.727499049073609\n",
      "min_samples_leaf = 8 Train = 0.7463832376977917 Test = 0.7268036387815366\n",
      "min_samples_leaf = 9 Train = 0.7445053638854366 Test = 0.7272205945975767\n"
     ]
    },
    {
     "data": {
      "image/png": "[encoded data removed]",
      "text/plain": [
       "<Figure size 432x288 with 1 Axes>"
      ]
     },
     "metadata": {
      "needs_background": "light"
     },
     "output_type": "display_data"
    }
   ],
   "source": [
    "msl = range(1,10)\n",
    "rf = RandomForestClassifier(random_state=33)\n",
    "train_scores, test_scores = calc_params(X_train, y_train, rf, msl, 'min_samples_leaf', 5)"
   ]
  },
  {
   "cell_type": "code",
   "execution_count": 158,
   "metadata": {},
   "outputs": [
    {
     "name": "stdout",
     "output_type": "stream",
     "text": [
      "max_depth = 1 Train = 0.5946932854877509 Test = 0.5946590360268023\n",
      "max_depth = 2 Train = 0.7024968627334328 Test = 0.7027405069478118\n",
      "max_depth = 3 Train = 0.7135553132320943 Test = 0.7128949490080846\n",
      "max_depth = 4 Train = 0.7194672741198301 Test = 0.7163720972548473\n",
      "max_depth = 5 Train = 0.7256571935605806 Test = 0.7187369761798987\n",
      "max_depth = 6 Train = 0.7324036951667594 Test = 0.7229099218643383\n",
      "max_depth = 7 Train = 0.7405759087915774 Test = 0.7265260553831145\n",
      "max_depth = 8 Train = 0.74603560510369 Test = 0.7298646055034683\n",
      "max_depth = 9 Train = 0.7535818345917467 Test = 0.7302816581059094\n",
      "max_depth = 10 Train = 0.760154477578913 Test = 0.7276395829280402\n"
     ]
    },
    {
     "data": {
      "image/png": "[encoded data removed]",
      "text/plain": [
       "<Figure size 432x288 with 1 Axes>"
      ]
     },
     "metadata": {
      "needs_background": "light"
     },
     "output_type": "display_data"
    }
   ],
   "source": [
    "m_depth = [1,2,3,4,5,6, 7, 8, 9, 10]\n",
    "\n",
    "rf = RandomForestClassifier(random_state=33)\n",
    "train_scores, test_scores = calc_params(X_train, y_train, rf, m_depth, 'max_depth', 5)"
   ]
  },
  {
   "cell_type": "code",
   "execution_count": 159,
   "metadata": {},
   "outputs": [
    {
     "name": "stdout",
     "output_type": "stream",
     "text": [
      "n_estimators = 5 Train = 0.8863890998940983 Test = 0.6811796907287339\n",
      "n_estimators = 10 Train = 0.9014120601629662 Test = 0.6817359221759907\n",
      "n_estimators = 15 Train = 0.907323833624871 Test = 0.686188580559677\n",
      "n_estimators = 20 Train = 0.9097928243234714 Test = 0.6856323491124203\n",
      "n_estimators = 25 Train = 0.9112186330780231 Test = 0.687718386415835\n",
      "n_estimators = 30 Train = 0.9126792123471784 Test = 0.6885532659119262\n",
      "n_estimators = 35 Train = 0.9133399367685706 Test = 0.6892485794175975\n",
      "n_estimators = 40 Train = 0.9137224668431614 Test = 0.6905005115161299\n",
      "n_estimators = 45 Train = 0.9138963254621739 Test = 0.691752153255459\n",
      "n_estimators = 50 Train = 0.9140702082651646 Test = 0.6907792563513656\n",
      "n_estimators = 55 Train = 0.9141397492943719 Test = 0.6898051012240576\n",
      "n_estimators = 60 Train = 0.9142440789761664 Test = 0.6910569365361889\n",
      "n_estimators = 65 Train = 0.91417452585497 Test = 0.6914742794978335\n",
      "n_estimators = 70 Train = 0.9142788615827593 Test = 0.6903617198169187\n",
      "n_estimators = 75 Train = 0.9143136320973628 Test = 0.6902226377585043\n",
      "n_estimators = 80 Train = 0.914348408657961 Test = 0.6911962121674056\n",
      "n_estimators = 85 Train = 0.9143831852185592 Test = 0.6911965993130103\n",
      "n_estimators = 90 Train = 0.9144179617791574 Test = 0.6905011890209378\n",
      "n_estimators = 95 Train = 0.9144179617791574 Test = 0.6925877102563581\n",
      "n_estimators = 100 Train = 0.9144179617791574 Test = 0.6924485314115425\n"
     ]
    },
    {
     "data": {
      "image/png": "[encoded data removed]",
      "text/plain": [
       "<Figure size 432x288 with 1 Axes>"
      ]
     },
     "metadata": {
      "needs_background": "light"
     },
     "output_type": "display_data"
    }
   ],
   "source": [
    "nest = range(5, 101, 5)\n",
    "rf = RandomForestClassifier(random_state=33)\n",
    "train_scores, test_scores = calc_params(X_train, y_train, rf, nest, 'n_estimators', 5)"
   ]
  },
  {
   "cell_type": "code",
   "execution_count": 161,
   "metadata": {},
   "outputs": [
    {
     "name": "stdout",
     "output_type": "stream",
     "text": [
      "              precision    recall  f1-score   support\n",
      "\n",
      "           0       0.82      0.40      0.54       749\n",
      "           1       0.69      0.94      0.79      1049\n",
      "\n",
      "    accuracy                           0.71      1798\n",
      "   macro avg       0.75      0.67      0.67      1798\n",
      "weighted avg       0.74      0.71      0.69      1798\n",
      "\n"
     ]
    }
   ],
   "source": [
    "rf = RandomForestClassifier(n_estimators=45, min_samples_leaf=5, max_depth=9)\n",
    "rf = rf.fit(X_train, y_train)\n",
    "y_pred = rf.predict(X_test)\n",
    "print(metrics.classification_report(y_test, y_pred))"
   ]
  },
  {
   "cell_type": "code",
   "execution_count": 164,
   "metadata": {},
   "outputs": [
    {
     "name": "stdout",
     "output_type": "stream",
     "text": [
      "n_estimators = 5 Train = 0.7142509532719592 Test = 0.7119217617447878\n",
      "n_estimators = 10 Train = 0.7222493203697536 Test = 0.7179019998974064\n",
      "n_estimators = 15 Train = 0.727500308950321 Test = 0.7233270712531807\n",
      "n_estimators = 20 Train = 0.7297954410299086 Test = 0.7245786162061086\n",
      "n_estimators = 25 Train = 0.7322297337658397 Test = 0.7256918533918311\n",
      "n_estimators = 30 Train = 0.7328208627440738 Test = 0.7274994362192133\n",
      "n_estimators = 35 Train = 0.7348726737733706 Test = 0.7287510779585424\n",
      "n_estimators = 40 Train = 0.735255179663983 Test = 0.7295864413866394\n",
      "n_estimators = 45 Train = 0.7354986337261538 Test = 0.7304207401643239\n",
      "n_estimators = 50 Train = 0.7356724560691991 Test = 0.7291686144929893\n",
      "n_estimators = 55 Train = 0.7359854753445552 Test = 0.728890160016957\n",
      "n_estimators = 60 Train = 0.7361941347081441 Test = 0.728611995900128\n",
      "n_estimators = 65 Train = 0.737063536631109 Test = 0.7295855703090293\n",
      "n_estimators = 70 Train = 0.7370287117025545 Test = 0.7293069222601947\n",
      "n_estimators = 75 Train = 0.7369591464893691 Test = 0.7302808838147005\n",
      "n_estimators = 80 Train = 0.7366461755819692 Test = 0.7300028164842727\n",
      "n_estimators = 85 Train = 0.737167793760969 Test = 0.7290287581433658\n",
      "n_estimators = 90 Train = 0.7374112236391615 Test = 0.7293068254737937\n",
      "n_estimators = 95 Train = 0.736715710565182 Test = 0.7287507875993391\n",
      "n_estimators = 100 Train = 0.7371678300369362 Test = 0.7297243620082404\n"
     ]
    },
    {
     "data": {
      "image/png": "[encoded data removed]",
      "text/plain": [
       "<Figure size 432x288 with 1 Axes>"
      ]
     },
     "metadata": {
      "needs_background": "light"
     },
     "output_type": "display_data"
    }
   ],
   "source": [
    "gb = GradientBoostingClassifier()\n",
    "gb= gb.fit(X_train, y_train)\n",
    "train_scores, test_scores = calc_params(X_train, y_train, ab, nest, 'n_estimators', 5)"
   ]
  },
  {
   "cell_type": "code",
   "execution_count": 165,
   "metadata": {},
   "outputs": [
    {
     "name": "stdout",
     "output_type": "stream",
     "text": [
      "learning_rate = 0.01 Train = 0.7091737568044646 Test = 0.7087218097508428\n",
      "learning_rate = 0.05 Train = 0.7360203063191042 Test = 0.7262481816254889\n",
      "learning_rate = 0.1 Train = 0.7460703091123537 Test = 0.7291680337745825\n",
      "learning_rate = 0.2 Train = 0.7551118339702184 Test = 0.7291687112793903\n",
      "learning_rate = 0.3 Train = 0.7632145851637582 Test = 0.729168324133786\n",
      "learning_rate = 0.4 Train = 0.768778641387638 Test = 0.7255513195373997\n",
      "learning_rate = 0.6 Train = 0.778411319407715 Test = 0.7197093891519866\n",
      "learning_rate = 0.7 Train = 0.7829670367540845 Test = 0.7177619499749807\n",
      "learning_rate = 0.8 Train = 0.7844623563078708 Test = 0.7148413235346782\n",
      "learning_rate = 0.9 Train = 0.7863054837896003 Test = 0.7101119528301795\n",
      "learning_rate = 1.0 Train = 0.7888441243453096 Test = 0.7070517603994568\n",
      "learning_rate = 1.3 Train = 0.7829666981783903 Test = 0.707747073905128\n",
      "learning_rate = 1.5 Train = 0.7752472267627641 Test = 0.7095561085285274\n",
      "learning_rate = 1.8 Train = 0.7336904097709076 Test = 0.7096958680917498\n",
      "learning_rate = 2.0 Train = 0.6658098525043357 Test = 0.6628145679019515\n"
     ]
    },
    {
     "data": {
      "image/png": "[encoded data removed]",
      "text/plain": [
       "<Figure size 432x288 with 1 Axes>"
      ]
     },
     "metadata": {
      "needs_background": "light"
     },
     "output_type": "display_data"
    }
   ],
   "source": [
    "lr = [0.01, 0.05, 0.1, 0.2, 0.3, 0.4, 0.6, 0.7, 0.8, 0.9, 1.0, 1.3, 1.5, 1.8, 2.0]\n",
    "gb = GradientBoostingClassifier()\n",
    "train_scores, test_scores = calc_params(X_train, y_train, gb, lr, 'learning_rate', 5)"
   ]
  },
  {
   "cell_type": "code",
   "execution_count": 166,
   "metadata": {},
   "outputs": [
    {
     "name": "stdout",
     "output_type": "stream",
     "text": [
      "max_depth = 1 Train = 0.7136944617964488 Test = 0.7109471226854742\n",
      "max_depth = 2 Train = 0.7350814177808831 Test = 0.7261084220622666\n",
      "max_depth = 3 Train = 0.7460703091123537 Test = 0.7293072126193981\n",
      "max_depth = 4 Train = 0.7572330651088316 Test = 0.7284731074145159\n",
      "max_depth = 5 Train = 0.7706912071166675 Test = 0.7294466818234171\n",
      "max_depth = 6 Train = 0.7879399216777683 Test = 0.7244390502156886\n",
      "max_depth = 7 Train = 0.8093614244750083 Test = 0.7179005481013896\n",
      "max_depth = 8 Train = 0.8338083429404186 Test = 0.7116411779679308\n"
     ]
    },
    {
     "data": {
      "image/png": "[encoded data removed]",
      "text/plain": [
       "<Figure size 432x288 with 1 Axes>"
      ]
     },
     "metadata": {
      "needs_background": "light"
     },
     "output_type": "display_data"
    }
   ],
   "source": [
    "m_depth = [1,2,3,4,5,6,7,8]\n",
    "\n",
    "gb = GradientBoostingClassifier()\n",
    "train_scores, test_scores = calc_params(X_train, y_train, gb, m_depth, 'max_depth', 5)"
   ]
  },
  {
   "cell_type": "code",
   "execution_count": 167,
   "metadata": {},
   "outputs": [
    {
     "name": "stdout",
     "output_type": "stream",
     "text": [
      "              precision    recall  f1-score   support\n",
      "\n",
      "           0       0.75      0.47      0.58       749\n",
      "           1       0.70      0.89      0.78      1049\n",
      "\n",
      "    accuracy                           0.71      1798\n",
      "   macro avg       0.72      0.68      0.68      1798\n",
      "weighted avg       0.72      0.71      0.70      1798\n",
      "\n"
     ]
    }
   ],
   "source": [
    "gb = GradientBoostingClassifier(n_estimators=45, learning_rate=0.3,\n",
    "                                 max_depth=5, random_state=0).fit(X_train, y_train)\n",
    "y_pred = gb.predict(X_test)\n",
    "print(metrics.classification_report(y_test, y_pred))"
   ]
  },
  {
   "cell_type": "code",
   "execution_count": null,
   "metadata": {},
   "outputs": [],
   "source": []
  }
 ],
 "metadata": {
  "kernelspec": {
   "display_name": "Python 3",
   "language": "python",
   "name": "python3"
  },
  "language_info": {
   "codemirror_mode": {
    "name": "ipython",
    "version": 3
   },
   "file_extension": ".py",
   "mimetype": "text/x-python",
   "name": "python",
   "nbconvert_exporter": "python",
   "pygments_lexer": "ipython3",
   "version": "3.8.3"
  }
 },
 "nbformat": 4,
 "nbformat_minor": 4
}
